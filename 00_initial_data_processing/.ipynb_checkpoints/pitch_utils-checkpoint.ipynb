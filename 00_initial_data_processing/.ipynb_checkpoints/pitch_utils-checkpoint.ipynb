{
 "cells": [
  {
   "cell_type": "code",
   "execution_count": null,
   "id": "a4fbd90b-f55e-402c-853d-5aed002dd0b9",
   "metadata": {},
   "outputs": [],
   "source": [
    "import numpy as np\n",
    "import contextlib\n",
    "import io\n",
    "from music21 import converter, pitch as m21pitch, interval\n",
    "\n",
    "def transpose_to_tonic(stream, target_tonic='D'):\n",
    "    tonic_note = stream.analyze('key').tonic\n",
    "    target_note = m21pitch.Pitch(target_tonic)\n",
    "    i = interval.Interval(tonic_note, target_note)\n",
    "    return stream.transpose(i)\n",
    "\n",
    "def get_key_normalized_pitch_vector(abc, meter=\"4/4\", mode=\"C\", target_tonic=\"D\"):\n",
    "    try:\n",
    "        abc_full = f\"X:1\\nT:Tune\\nM:{meter}\\nK:{mode}\\n{abc}\"\n",
    "        with contextlib.redirect_stdout(io.StringIO()):\n",
    "            s = converter.parse(abc_full, format='abc')\n",
    "        s = transpose_to_tonic(s, target_tonic)\n",
    "        notes = s.flat.notes.stream()\n",
    "        midi_pitches = [n.pitch.midi for n in notes if n.isNote]\n",
    "\n",
    "        pitch_vector = np.zeros(36)\n",
    "        for midi in midi_pitches:\n",
    "            if 48 <= midi <= 83:\n",
    "                pitch_vector[midi - 48] += 1\n",
    "        if pitch_vector.sum() > 0:\n",
    "            pitch_vector /= pitch_vector.sum()\n",
    "        return pitch_vector\n",
    "    except Exception:\n",
    "        return np.zeros(36)\n"
   ]
  }
 ],
 "metadata": {
  "kernelspec": {
   "display_name": "Python 3 (ipykernel)",
   "language": "python",
   "name": "python3"
  },
  "language_info": {
   "codemirror_mode": {
    "name": "ipython",
    "version": 3
   },
   "file_extension": ".py",
   "mimetype": "text/x-python",
   "name": "python",
   "nbconvert_exporter": "python",
   "pygments_lexer": "ipython3",
   "version": "3.13.2"
  }
 },
 "nbformat": 4,
 "nbformat_minor": 5
}
