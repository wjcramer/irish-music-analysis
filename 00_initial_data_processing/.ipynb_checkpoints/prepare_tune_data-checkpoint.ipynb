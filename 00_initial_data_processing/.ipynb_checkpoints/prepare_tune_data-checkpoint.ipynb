{
 "cells": [
  {
   "cell_type": "code",
   "execution_count": 1,
   "id": "ef7efaf8-0521-4e60-bbf8-ad27abceaa3a",
   "metadata": {
    "scrolled": true
   },
   "outputs": [
    {
     "name": "stdout",
     "output_type": "stream",
     "text": [
      "  tune_id setting_id                  name        type meter         mode  \\\n",
      "0   18105      35234        $150 Boot, The       polka   2/4       Gmajor   \n",
      "1   11931      11931  'G Iomain Nan Gamhna    slip jig   9/8       Gmajor   \n",
      "2   11931      48772  'G Iomain Nan Gamhna    slip jig   9/8  Amixolydian   \n",
      "3   15326      28560         'S Ann An Ìle  strathspey   4/4       Gmajor   \n",
      "4   15326      28582         'S Ann An Ìle  strathspey   4/4       Gmajor   \n",
      "\n",
      "                                                 abc                 date  \\\n",
      "0  |:d>g fe|dB AG|E/F/G E/F/G|BA GF|\\r\\nd>g fe|dB...  2019-07-06 04:39:09   \n",
      "1  dBB B2 A BAG|dBB Bcd efg|dBB B2 A BAG|eAA dBG ...  2012-05-17 07:49:26   \n",
      "2  |:dBB BBA BAG|dBB Bcd efg|dBB BBA BAG|e2A dBG ...  2023-11-25 22:54:00   \n",
      "3  |:G>A B>G c>A B>G|E<E A>G F<D D2|G>A B>G c>A B...  2016-03-31 15:34:45   \n",
      "4  uD2|:{F}v[G,2G2]uB>ud c>A B>G|{D}E2 uA>uG F<D ...  2016-04-03 09:15:08   \n",
      "\n",
      "       username  \n",
      "0  NfldWhistler  \n",
      "1  iliketurtles  \n",
      "2   birlibirdie  \n",
      "3     danninagh  \n",
      "4       DonaldK  \n",
      "type\n",
      "reel          18517\n",
      "jig           13012\n",
      "polka          3985\n",
      "waltz          3664\n",
      "hornpipe       3554\n",
      "slip jig       1834\n",
      "barndance      1637\n",
      "march          1605\n",
      "strathspey     1293\n",
      "slide          1073\n",
      "mazurka         560\n",
      "three-two       394\n",
      "Name: count, dtype: int64\n"
     ]
    }
   ],
   "source": [
    "import json\n",
    "import pandas as pd\n",
    "\n",
    "# Load tunes metadata\n",
    "with open(\"../data/TheSession-data/json/tunes.json\", \"r\") as f:\n",
    "    tunes = json.load(f)\n",
    "\n",
    "# Convert to DataFrame\n",
    "tunes_df = pd.DataFrame(tunes)\n",
    "\n",
    "print(tunes_df.head())\n",
    "print(tunes_df['type'].value_counts())"
   ]
  },
  {
   "cell_type": "code",
   "execution_count": 2,
   "id": "89d83541-eae9-47dc-812f-3d64fb421b77",
   "metadata": {},
   "outputs": [
    {
     "name": "stdout",
     "output_type": "stream",
     "text": [
      "Processing 51128 tunes...\n"
     ]
    },
    {
     "name": "stderr",
     "output_type": "stream",
     "text": [
      "100%|████████████████████████████████████████████████████████████████████████████| 51128/51128 [00:00<00:00, 376844.50it/s]\n"
     ]
    },
    {
     "name": "stdout",
     "output_type": "stream",
     "text": [
      "[✓] Saved merged tune data to data/processed/merged_tunes.csv\n"
     ]
    }
   ],
   "source": [
    "import os\n",
    "import json\n",
    "import pandas as pd\n",
    "from tqdm import tqdm\n",
    "\n",
    "# Path setup (update if your structure changes)\n",
    "BASE_DIR = \"/Users/wcramer2/Desktop/irish-music-analysis/data/TheSession-data/json\"\n",
    "TUNES_FILE = os.path.join(BASE_DIR, \"tunes.json\")\n",
    "SETTINGS_DIR = os.path.join(BASE_DIR, \"tune-settings\")\n",
    "\n",
    "# Load tunes metadata\n",
    "with open(TUNES_FILE, \"r\") as f:\n",
    "    tunes = json.load(f)\n",
    "\n",
    "tune_records = []\n",
    "\n",
    "print(f\"Processing {len(tunes)} tunes...\")\n",
    "\n",
    "for tune in tqdm(tunes):\n",
    "    tune_id = tune.get(\"id\")\n",
    "    setting_path = os.path.join(SETTINGS_DIR, f\"{tune_id}.json\")\n",
    "\n",
    "    # Default ABC info\n",
    "    abc = key = meter = None\n",
    "\n",
    "    if os.path.exists(setting_path):\n",
    "        with open(setting_path, \"r\") as sf:\n",
    "            try:\n",
    "                settings = json.load(sf)\n",
    "                if settings and isinstance(settings, list):\n",
    "                    first = settings[0]\n",
    "                    abc = first.get(\"abc\")\n",
    "                    key = first.get(\"key\")\n",
    "                    meter = first.get(\"meter\")\n",
    "            except Exception as e:\n",
    "                print(f\"[!] Failed to read {setting_path}: {e}\")\n",
    "    \n",
    "    tune_records.append({\n",
    "        \"id\": tune_id,\n",
    "        \"name\": tune.get(\"name\"),\n",
    "        \"type\": tune.get(\"type\"),\n",
    "        \"date\": tune.get(\"date\"),\n",
    "        \"key\": key,\n",
    "        \"meter\": meter,\n",
    "        \"abc\": abc\n",
    "    })\n",
    "\n",
    "# Create DataFrame\n",
    "df = pd.DataFrame(tune_records)\n",
    "\n",
    "# Save merged CSV\n",
    "output_path = \"data/processed/merged_tunes.csv\"\n",
    "os.makedirs(os.path.dirname(output_path), exist_ok=True)\n",
    "df.to_csv(output_path, index=False)\n",
    "\n",
    "print(f\"[✓] Saved merged tune data to {output_path}\")\n"
   ]
  },
  {
   "cell_type": "code",
   "execution_count": 4,
   "id": "3964c042-e450-4432-8c4d-957116cfdc38",
   "metadata": {},
   "outputs": [
    {
     "name": "stdout",
     "output_type": "stream",
     "text": [
      "[✓] Saved 51128 parsed tunes to data/processed/parsed_tunes.csv\n"
     ]
    }
   ],
   "source": [
    "import json\n",
    "import pandas as pd\n",
    "import os\n",
    "\n",
    "# Path to your JSON file\n",
    "json_path = \"/Users/wcramer2/Desktop/irish-music-analysis/data/TheSession-data/json/tunes.json\"\n",
    "output_path = \"../data/processed/parsed_tunes.csv\"\n",
    "\n",
    "# Load the JSON data\n",
    "with open(json_path, \"r\") as f:\n",
    "    tunes = json.load(f)\n",
    "\n",
    "# Convert to DataFrame\n",
    "df = pd.DataFrame(tunes)\n",
    "\n",
    "# Keep only relevant columns\n",
    "df = df[[\"tune_id\", \"name\", \"type\", \"meter\", \"mode\", \"abc\", \"date\", \"username\"]]\n",
    "\n",
    "# Clean missing or blank ABCs\n",
    "df = df[df[\"abc\"].notnull() & (df[\"abc\"].str.strip() != \"\")]\n",
    "\n",
    "# Save for analysis\n",
    "os.makedirs(os.path.dirname(output_path), exist_ok=True)\n",
    "df.to_csv(output_path, index=False)\n",
    "\n",
    "print(f\"[✓] Saved {len(df)} parsed tunes to {output_path}\")\n"
   ]
  },
  {
   "cell_type": "code",
   "execution_count": null,
   "id": "f2060b4e-1853-4447-a6a9-7b57a8be1112",
   "metadata": {},
   "outputs": [],
   "source": []
  }
 ],
 "metadata": {
  "kernelspec": {
   "display_name": "Python 3 (ipykernel)",
   "language": "python",
   "name": "python3"
  },
  "language_info": {
   "codemirror_mode": {
    "name": "ipython",
    "version": 3
   },
   "file_extension": ".py",
   "mimetype": "text/x-python",
   "name": "python",
   "nbconvert_exporter": "python",
   "pygments_lexer": "ipython3",
   "version": "3.13.2"
  }
 },
 "nbformat": 4,
 "nbformat_minor": 5
}
